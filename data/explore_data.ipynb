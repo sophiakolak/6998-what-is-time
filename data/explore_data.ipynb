{
 "cells": [
  {
   "cell_type": "code",
   "execution_count": 2,
   "metadata": {
    "scrolled": true
   },
   "outputs": [
    {
     "name": "stdout",
     "output_type": "stream",
     "text": [
      "   frame  time  odor_valve  total_licks  total_rewards  trial  valve_open  \\\n",
      "0      1    34           0            0              0      0           0   \n",
      "1      2    84           0            0              0      0           0   \n",
      "2      3   133           0            0              0      0           0   \n",
      "3      4   183           0            0              0      0           0   \n",
      "4      5   233           0            0              0      0           0   \n",
      "\n",
      "   virt_dist  total_distance  lap  ...  245     246  247  248  249  250  251  \\\n",
      "0         13               0    0  ...  0.0  0.0000  0.0  0.0  0.0  0.0  0.0   \n",
      "1         26               0    0  ...  0.0  2.7654  0.0  0.0  0.0  0.0  0.0   \n",
      "2         36               0    0  ...  0.0  0.0000  0.0  0.0  0.0  0.0  0.0   \n",
      "3         50               0    0  ...  0.0  0.0000  0.0  0.0  0.0  0.0  0.0   \n",
      "4         65               0    0  ...  0.0  0.0000  0.0  0.0  0.0  0.0  0.0   \n",
      "\n",
      "   252  253  254  \n",
      "0  0.0  0.0  0.0  \n",
      "1  0.0  0.0  0.0  \n",
      "2  0.0  0.0  0.0  \n",
      "3  0.0  0.0  0.0  \n",
      "4  0.0  0.0  0.0  \n",
      "\n",
      "[5 rows x 267 columns]\n"
     ]
    }
   ],
   "source": [
    "import pandas as pd\n",
    "df = pd.read_csv('wfC318/Day_0/Raw_files_csv/combined_behavior_and_s.csv', header=None)\n",
    "\n",
    "#adding labels to the data\n",
    "labs = ['frame', 'time', 'odor_valve', 'total_licks', 'total_rewards', 'trial', \n",
    "        'valve_open', 'virt_dist', 'total_distance', 'lap', 'trial_type', 'speed']\n",
    "\n",
    "#name the rest of the columns with neuron index\n",
    "for i in range(0,255):\n",
    "    labs.append(str(i))\n",
    "    \n",
    "df.columns = labs\n",
    "print(df.head())"
   ]
  },
  {
   "cell_type": "code",
   "execution_count": 21,
   "metadata": {},
   "outputs": [
    {
     "name": "stdout",
     "output_type": "stream",
     "text": [
      "\n",
      "\n",
      "\n",
      "\n",
      "\n",
      "\n",
      "\n",
      "\n",
      "\n",
      "\n",
      "\n",
      "\n",
      "\n",
      "\n",
      "\n",
      "\n",
      "\n",
      "\n",
      "\n",
      "\n",
      "\n",
      "\n",
      "\n",
      "\n",
      "\n",
      "\n",
      "\n",
      "\n",
      "\n",
      "\n",
      "\n",
      "\n",
      "\n",
      "\n",
      "\n",
      "\n",
      "\n",
      "\n",
      "\n",
      "\n",
      "\n",
      "\n",
      "\n",
      "\n",
      "\n",
      "\n",
      "\n",
      "\n",
      "\n",
      "\n",
      "\n",
      "\n",
      "\n",
      "\n",
      "\n",
      "\n",
      "\n",
      "\n",
      "\n",
      "\n"
     ]
    }
   ],
   "source": [
    "#remove all trials after 30\n",
    "df = df[df[\"trial\"] < 31]\n",
    "\n",
    "#restart time so it increments within a given trial only\n",
    "#do not run this cell more than once or it will fuck everything up\n",
    "trial_prev, time_prev, end_time = 0,0,0\n",
    "for i, j in df.iterrows(): \n",
    "    trial = int(j['trial'])\n",
    "    time = int(j['time'])\n",
    "    if trial != trial_prev:\n",
    "        end_time = time_prev\n",
    "        print(\"\\n\")\n",
    "    df.at[i,'time'] = time - end_time\n",
    "    trial_prev = trial\n",
    "    time_prev = time"
   ]
  },
  {
   "cell_type": "code",
   "execution_count": 23,
   "metadata": {},
   "outputs": [],
   "source": [
    "#remove all cells where distance exceeds 4,000cm\n",
    "df = df[df[\"virt_dist\"] < 4000]"
   ]
  },
  {
   "cell_type": "code",
   "execution_count": null,
   "metadata": {},
   "outputs": [],
   "source": []
  }
 ],
 "metadata": {
  "kernelspec": {
   "display_name": "Python 3",
   "language": "python",
   "name": "python3"
  },
  "language_info": {
   "codemirror_mode": {
    "name": "ipython",
    "version": 3
   },
   "file_extension": ".py",
   "mimetype": "text/x-python",
   "name": "python",
   "nbconvert_exporter": "python",
   "pygments_lexer": "ipython3",
   "version": "3.7.3"
  }
 },
 "nbformat": 4,
 "nbformat_minor": 2
}

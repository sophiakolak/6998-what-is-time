{
 "cells": [
  {
   "cell_type": "markdown",
   "metadata": {},
   "source": [
    "# This code finds the average lick rate per second and plots it against time "
   ]
  },
  {
   "cell_type": "markdown",
   "metadata": {},
   "source": [
    "I want to plot the average lick rate against time to see if the duration before they start anticipatorily licking is fixed between trials or if it is a matter if distance passed"
   ]
  },
  {
   "cell_type": "code",
   "execution_count": 1,
   "metadata": {},
   "outputs": [
    {
     "name": "stdout",
     "output_type": "stream",
     "text": [
      "   frame  time  odor_valve  total_licks  total_rewards  trial  valve_open  \\\n",
      "0      1    34           0            0              0      0           0   \n",
      "1      2    84           0            0              0      0           0   \n",
      "2      3   133           0            0              0      0           0   \n",
      "3      4   183           0            0              0      0           0   \n",
      "4      5   233           0            0              0      0           0   \n",
      "\n",
      "   virt_dist  total_distance  lap ...   245     246  247  248  249  250  251  \\\n",
      "0         13               0    0 ...   0.0  0.0000  0.0  0.0  0.0  0.0  0.0   \n",
      "1         26               0    0 ...   0.0  2.7654  0.0  0.0  0.0  0.0  0.0   \n",
      "2         36               0    0 ...   0.0  0.0000  0.0  0.0  0.0  0.0  0.0   \n",
      "3         50               0    0 ...   0.0  0.0000  0.0  0.0  0.0  0.0  0.0   \n",
      "4         65               0    0 ...   0.0  0.0000  0.0  0.0  0.0  0.0  0.0   \n",
      "\n",
      "   252  253  254  \n",
      "0  0.0  0.0  0.0  \n",
      "1  0.0  0.0  0.0  \n",
      "2  0.0  0.0  0.0  \n",
      "3  0.0  0.0  0.0  \n",
      "4  0.0  0.0  0.0  \n",
      "\n",
      "[5 rows x 267 columns]\n"
     ]
    }
   ],
   "source": [
    "import pandas as pd\n",
    "df = pd.read_csv('wfC318/Day_0/Raw_files_csv/combined_behavior_and_s.csv', header=None)\n",
    "\n",
    "#adding labels to the data\n",
    "labs = ['frame', 'time', 'odor_valve', 'total_licks', 'total_rewards', 'trial', \n",
    "        'valve_open', 'virt_dist', 'total_distance', 'lap', 'trial_type', 'speed']\n",
    "\n",
    "#name the rest of the columns with neuron index\n",
    "for i in range(0,255):\n",
    "    labs.append(str(i))\n",
    "    \n",
    "df.columns = labs\n",
    "print(df.head())\n"
   ]
  },
  {
   "cell_type": "code",
   "execution_count": 2,
   "metadata": {},
   "outputs": [],
   "source": [
    "#remove all trials after 30\n",
    "df = df[df[\"trial\"] < 31]\n",
    "\n",
    "#restart time so it increments within a given trial only\n",
    "#do not run this cell more than once or it will fuck everything up\n",
    "trial_prev, time_prev, end_time = 0,0,0\n",
    "for i, j in df.iterrows(): \n",
    "    trial = int(j['trial'])\n",
    "    time = int(j['time'])\n",
    "    if trial != trial_prev:\n",
    "        end_time = time_prev\n",
    "        #print(\"\\n\")\n",
    "    df.at[i,'time'] = time - end_time\n",
    "    trial_prev = trial\n",
    "    time_prev = time"
   ]
  },
  {
   "cell_type": "code",
   "execution_count": 11,
   "metadata": {},
   "outputs": [
    {
     "name": "stdout",
     "output_type": "stream",
     "text": [
      "time changed\n",
      "time changed\n"
     ]
    },
    {
     "ename": "NameError",
     "evalue": "name 'duration' is not defined",
     "output_type": "error",
     "traceback": [
      "\u001b[0;31m---------------------------------------------------------------------------\u001b[0m",
      "\u001b[0;31mNameError\u001b[0m                                 Traceback (most recent call last)",
      "\u001b[0;32m<ipython-input-11-8e34a15308dc>\u001b[0m in \u001b[0;36m<module>\u001b[0;34m()\u001b[0m\n\u001b[1;32m     69\u001b[0m         \u001b[0;31m#time_list.append(duration)\u001b[0m\u001b[0;34m\u001b[0m\u001b[0;34m\u001b[0m\u001b[0;34m\u001b[0m\u001b[0m\n\u001b[1;32m     70\u001b[0m \u001b[0;31m#print the duration of the trial\u001b[0m\u001b[0;34m\u001b[0m\u001b[0;34m\u001b[0m\u001b[0;34m\u001b[0m\u001b[0m\n\u001b[0;32m---> 71\u001b[0;31m \u001b[0mprint\u001b[0m\u001b[0;34m(\u001b[0m\u001b[0;34m\"duration of trial\"\u001b[0m\u001b[0;34m,\u001b[0m \u001b[0mduration\u001b[0m\u001b[0;34m)\u001b[0m\u001b[0;34m\u001b[0m\u001b[0;34m\u001b[0m\u001b[0m\n\u001b[0m\u001b[1;32m     72\u001b[0m \u001b[0;34m\u001b[0m\u001b[0m\n\u001b[1;32m     73\u001b[0m \u001b[0;34m\u001b[0m\u001b[0m\n",
      "\u001b[0;31mNameError\u001b[0m: name 'duration' is not defined"
     ]
    }
   ],
   "source": [
    "import pandas as pd\n",
    "import numpy as np\n",
    "import time as t\n",
    "\n",
    "# Things to set:\n",
    "#filename = 'wfC318/Day_4/raw_files_csv/combined_behavior_and_s_COPY.csv'\n",
    "#filename = 'wfC318/Day_4/raw_files_csv/combined_behavior_and_s.csv'\n",
    "filename = 'wfC318/Day_0/Raw_files_csv/combined_behavior_and_s.csv'\n",
    "\n",
    "# How many trials we are looking at (ex: 31 for day 0, 34 for day 4)\n",
    "trial_count = 31\n",
    "#trial_count = max(lap)  # all of them\n",
    "\n",
    "\n",
    "data = pd.read_csv(filename, header=None)\n",
    "\n",
    "\n",
    "# Will change neuron firing data to (0,1) binary indicators\n",
    "data_for_lick = pd.read_csv(filename, header=None)\n",
    "\n",
    "def changeTime(data_name):\n",
    "    trial_prev, time_prev, end_time = 0,0,0\n",
    "    for i, j in data_name.iterrows():\n",
    "        trial = int(j[9])\n",
    "        time = int(j[1])\n",
    "        if trial != trial_prev:\n",
    "            end_time = time_prev\n",
    "        data_name.at[i,1] = time - end_time\n",
    "        trial_prev = trial\n",
    "        time_prev = time\n",
    "    print(\"time changed\")\n",
    "    \n",
    "changeTime(data)\n",
    "changeTime(data_for_lick)\n",
    "\n",
    "\n",
    "\n",
    "length = len(data)\n",
    "data = data[data[7] <= 4000]  # removing all rows where mouse is licking reward past 4000cm\n",
    "data_for_lick = data_for_lick[data_for_lick[7] <= 4000]  # removing all rows where mouse is licking reward past 4000cm\n",
    "\n",
    "\n",
    "time = data[1]\n",
    "odor = data[10]\n",
    "distance = data[7]\n",
    "lap = data[9]\n",
    "lick = data[3]\n",
    "\n",
    "lap_dictionary = {}\n",
    "for i in range(0, trial_count):  # for every lap\n",
    "    lap_dictionary[i] = data.loc[data[9] == i]  # associate all lap data with that lap\n",
    "\n",
    "\n",
    "#find duration of the trial \n",
    "lap_dictionary = {}\n",
    "for i in range(0, trial_count):  # for every lap\n",
    "    lap_dictionary[i] = data.loc[data[9] == i]  # associate all lap data with that lap\n",
    "\n",
    "def lengthofTrial():\n",
    "    duration = lap_dictionary[0]\n",
    "    first = lap_dictionary[0].iloc[0]\n",
    "    last = lap_dictionary[0].iloc[-1]\n",
    "    duration = last[1] - first[1]\n",
    "print(\"duration of trial\", duration)\n",
    "\n",
    "\n",
    "    \n",
    "#bin the trial \n",
    "#find the average lick per second over the trial \n",
    "#Plot line graph of average licks per second against time bin \n",
    "\n",
    "\n",
    "\n",
    "#(pick a fast and slow trial and compare results)\n",
    "\n",
    "\n",
    "\n",
    "\n",
    "\n",
    "\n",
    "#bin in 200ms bins \n",
    "#num_of_bins = int(time // 200)\n",
    "#print(\"number of bins:\", num_of_bins)\n",
    "\n",
    "\n",
    "#find amount of licks per bin  and store as variable \n",
    "#def lick_time (total licks, time):\n",
    "\n",
    "    # plot the data\n",
    "    #data.iloc[0:581]. plt.plot(time, lick, alpha=0.4, label=\"no odor\")\n",
    "    #plt.legend()\n",
    " \n",
    "    # show the plot\n",
    "    #plt.show()\n",
    " \n",
    "    #return \"Done!\"\n",
    "\n",
    "\n",
    "\n",
    "#plot as y axis \n",
    "    #find delta lick in 200ms \n",
    "    #divide by \n",
    "#licks per milisecond \n",
    "#find delta licks and divide by number of seconds that have passed \n",
    "#time bins of 200ms \n"
   ]
  },
  {
   "cell_type": "code",
   "execution_count": null,
   "metadata": {},
   "outputs": [],
   "source": []
  }
 ],
 "metadata": {
  "kernelspec": {
   "display_name": "Python 3",
   "language": "python",
   "name": "python3"
  },
  "language_info": {
   "codemirror_mode": {
    "name": "ipython",
    "version": 3
   },
   "file_extension": ".py",
   "mimetype": "text/x-python",
   "name": "python",
   "nbconvert_exporter": "python",
   "pygments_lexer": "ipython3",
   "version": "3.6.8"
  }
 },
 "nbformat": 4,
 "nbformat_minor": 2
}
